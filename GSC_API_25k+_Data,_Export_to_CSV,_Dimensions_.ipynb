{
  "nbformat": 4,
  "nbformat_minor": 0,
  "metadata": {
    "colab": {
      "provenance": [],
      "include_colab_link": true
    },
    "kernelspec": {
      "name": "python3",
      "display_name": "Python 3"
    },
    "language_info": {
      "name": "python"
    }
  },
  "cells": [
    {
      "cell_type": "markdown",
      "metadata": {
        "id": "view-in-github",
        "colab_type": "text"
      },
      "source": [
        "<a href=\"https://colab.research.google.com/github/TheMihirNaik/google-search-console-api-using-python/blob/main/GSC_API_25k%2B_Data%2C_Export_to_CSV%2C_Dimensions_.ipynb\" target=\"_parent\"><img src=\"https://colab.research.google.com/assets/colab-badge.svg\" alt=\"Open In Colab\"/></a>"
      ]
    },
    {
      "cell_type": "code",
      "source": [
        "# Install required python packages\n",
        "!pip install oauth2client\n",
        "!pip install google-api-python-client\n",
        "!pip install httplib2"
      ],
      "metadata": {
        "id": "EOg0BH9Vlg1h"
      },
      "execution_count": null,
      "outputs": []
    },
    {
      "cell_type": "code",
      "source": [
        "# Import required packages\n",
        "from oauth2client.client import OAuth2WebServerFlow\n",
        "from googleapiclient.discovery import build\n",
        "import httplib2\n",
        "\n",
        "# Google Cloud Project Client ID & Client Secrets\n",
        "CLIENT_ID = \"enter your own CLIENT_ID\"\n",
        "CLIENT_SECRET = \"enter your own CLIENT_SECRET\"\n",
        "OAUTH_SCOPE = \"https://www.googleapis.com/auth/webmasters.readonly\"\n",
        "REDIRECT_URI = 'urn:ietf:wg:oauth:2.0:oob'\n",
        "flow = OAuth2WebServerFlow(CLIENT_ID, CLIENT_SECRET, OAUTH_SCOPE, REDIRECT_URI)\n",
        "authorize_url = flow.step1_get_authorize_url()\n",
        "print(\"Go to the following link in your browser: \" + authorize_url)\n",
        "auth_code = input(\"Enter your Authorization Code here:\")\n",
        "credentials = flow.step2_exchange(auth_code)\n",
        "http = httplib2.Http()\n",
        "creds = credentials.authorize(http)\n",
        "webmasters_service = build('searchconsole', 'v1', http=creds)"
      ],
      "metadata": {
        "id": "F_eNnskZlWpC",
        "colab": {
          "base_uri": "https://localhost:8080/"
        },
        "outputId": "2865cd7f-41ce-45cc-983b-9396ccccf6b2"
      },
      "execution_count": null,
      "outputs": [
        {
          "output_type": "stream",
          "name": "stderr",
          "text": [
            "WARNING:oauth2client._helpers:__init__() takes at most 4 positional arguments (5 given)\n"
          ]
        },
        {
          "name": "stdout",
          "output_type": "stream",
          "text": [
            "Go to the following link in your browser: https://accounts.google.com/o/oauth2/v2/auth?client_id=1085687348720-cpabg6ttpsqjji0j6pgbkb8sbcdcp4nt.apps.googleusercontent.com&redirect_uri=urn%3Aietf%3Awg%3Aoauth%3A2.0%3Aoob&scope=https%3A%2F%2Fwww.googleapis.com%2Fauth%2Fwebmasters.readonly&access_type=offline&response_type=code\n",
            "Enter your Authorization Code here:4/1AWtgzh4uywHpd6wzFiPuORwCU30KMtMVC55ZeSbkpAV1LoNaTbhmOzrEyQM\n"
          ]
        }
      ]
    },
    {
      "cell_type": "markdown",
      "source": [
        "# How to get a list of Sites we have in GSC Account?"
      ],
      "metadata": {
        "id": "4qwrvcSvoYeY"
      }
    },
    {
      "cell_type": "code",
      "source": [
        "# Get a list of site in my Google Search Console Account\n",
        "site_list = webmasters_service.sites().list().execute()\n",
        "\n",
        "site_list"
      ],
      "metadata": {
        "colab": {
          "base_uri": "https://localhost:8080/"
        },
        "id": "rh9Vk0Ewn_AK",
        "outputId": "aadfafb3-d7d8-40ab-8054-c9f9b019ff6a"
      },
      "execution_count": null,
      "outputs": [
        {
          "output_type": "execute_result",
          "data": {
            "text/plain": [
              "{'siteEntry': [{'siteUrl': 'https://moneymonkdigital.com/',\n",
              "   'permissionLevel': 'siteOwner'},\n",
              "  {'siteUrl': 'https://www.monocubed.com/', 'permissionLevel': 'siteFullUser'},\n",
              "  {'siteUrl': 'https://www.tridentpbi.in/',\n",
              "   'permissionLevel': 'siteFullUser'}]}"
            ]
          },
          "metadata": {},
          "execution_count": 2
        }
      ]
    },
    {
      "cell_type": "markdown",
      "source": [
        "# How to get Google Search Console Analytics Data using API?"
      ],
      "metadata": {
        "id": "IXwrOu0ssV50"
      }
    },
    {
      "cell_type": "code",
      "source": [
        "# the website we want to get the data for\n",
        "website = \"https://www.monocubed.com/\"\n",
        "\n",
        "# build a request body\n",
        "request_body = {\n",
        "    \"startDate\"\t: '2023-03-01',\n",
        "    \"endDate\" : '2023-03-10',\n",
        "    \"dimensions\" : ['QUERY', 'PAGE'],\n",
        "    \"rowLimit\" : 25000,\n",
        "    \"dataState\" : \"final\"\n",
        "}\n",
        "\n",
        "# get the response using request body\n",
        "response_data = webmasters_service.searchanalytics().query(siteUrl=website, body=request_body).execute()"
      ],
      "metadata": {
        "id": "FCvm0Estr0a0"
      },
      "execution_count": null,
      "outputs": []
    },
    {
      "cell_type": "code",
      "source": [
        "len(response_data['rows'])"
      ],
      "metadata": {
        "colab": {
          "base_uri": "https://localhost:8080/"
        },
        "id": "rigLmXVAt_0I",
        "outputId": "8b6d9c1f-03ea-44e0-b415-5b971b4e4f88"
      },
      "execution_count": null,
      "outputs": [
        {
          "output_type": "execute_result",
          "data": {
            "text/plain": [
              "25000"
            ]
          },
          "metadata": {},
          "execution_count": 11
        }
      ]
    },
    {
      "cell_type": "markdown",
      "source": [
        "# How to use While Loop to get more than 25,000 Rows of Data"
      ],
      "metadata": {
        "id": "OHZ3iTBTXDSR"
      }
    },
    {
      "cell_type": "code",
      "source": [
        "# create an empty list to store the rows from response\n",
        "all_responses = []\n",
        "\n",
        "# define a startRow\n",
        "startRow = 0\n",
        "\n",
        "while (startRow == 0) or (startRow%25000 == 0):\n",
        "  # build a request body\n",
        "  request_body = {\n",
        "      \"startDate\"\t: '2023-01-01',\n",
        "      \"endDate\" : '2023-01-31',\n",
        "      \"dimensions\" : ['QUERY', 'PAGE'],\n",
        "      \"rowLimit\" : 25000,\n",
        "      \"dataState\" : \"final\",\n",
        "      'startRow' : startRow\n",
        "      }\n",
        "\n",
        "  #get gsc response\n",
        "  response_data = webmasters_service.searchanalytics().query(siteUrl=website, body=request_body).execute()\n",
        "\n",
        "  #update the rows\n",
        "  startRow = startRow + len(response_data['rows'])\n",
        "  print(\"fetched up to \" + str(startRow) + \" rows of data\")\n",
        "\n",
        "  # for loop tos save all the rows in all_responses\n",
        "  for row in response_data['rows']:\n",
        "    all_responses.append(row)"
      ],
      "metadata": {
        "colab": {
          "base_uri": "https://localhost:8080/"
        },
        "id": "dIGO2udKXCtK",
        "outputId": "675db91c-8efb-4545-e5e8-33a300a21e96"
      },
      "execution_count": null,
      "outputs": [
        {
          "output_type": "stream",
          "name": "stdout",
          "text": [
            "fetched up to 25000 rows of data\n",
            "fetched up to 50000 rows of data\n",
            "fetched up to 70826 rows of data\n"
          ]
        }
      ]
    },
    {
      "cell_type": "code",
      "source": [
        "len(all_responses)"
      ],
      "metadata": {
        "colab": {
          "base_uri": "https://localhost:8080/"
        },
        "id": "TcLabNhdcdSz",
        "outputId": "067c9dda-ea96-40b9-8176-3e68728528e3"
      },
      "execution_count": null,
      "outputs": [
        {
          "output_type": "execute_result",
          "data": {
            "text/plain": [
              "70826"
            ]
          },
          "metadata": {},
          "execution_count": 24
        }
      ]
    },
    {
      "cell_type": "code",
      "source": [
        "all_responses[0]"
      ],
      "metadata": {
        "colab": {
          "base_uri": "https://localhost:8080/"
        },
        "id": "uqAim_OldqkX",
        "outputId": "0ddd2b0a-f0fb-4e4e-dca8-7a16720fbcac"
      },
      "execution_count": null,
      "outputs": [
        {
          "output_type": "execute_result",
          "data": {
            "text/plain": [
              "{'keys': ['python backend framework',\n",
              "  'https://www.monocubed.com/blog/top-python-frameworks/'],\n",
              " 'clicks': 695,\n",
              " 'impressions': 1743,\n",
              " 'ctr': 0.3987378083763626,\n",
              " 'position': 1.5243832472748136}"
            ]
          },
          "metadata": {},
          "execution_count": 25
        }
      ]
    },
    {
      "cell_type": "markdown",
      "source": [
        "# Build a Dataframe using Pandas"
      ],
      "metadata": {
        "id": "LiZKVtm6e5du"
      }
    },
    {
      "cell_type": "code",
      "source": [
        "import pandas as pd"
      ],
      "metadata": {
        "id": "GeW-B6hme7ee"
      },
      "execution_count": null,
      "outputs": []
    },
    {
      "cell_type": "code",
      "source": [
        "#empty list to build a dataframe\n",
        "data_for_df = []\n",
        "\n",
        "for each in all_responses:\n",
        "\n",
        "  temp = []\n",
        "\n",
        "  #query\n",
        "  temp.append(each['keys'][0])\n",
        "\n",
        "  #page\n",
        "  temp.append(each['keys'][1])\n",
        "\n",
        "  #clicks\n",
        "  temp.append(each['clicks'])\n",
        "\n",
        "  #impressions\n",
        "  temp.append(each['impressions'])\n",
        "\n",
        "  #ctr\n",
        "  temp.append(each['ctr'])\n",
        "\n",
        "  #position\n",
        "  temp.append(each['position'])\n",
        "\n",
        "  data_for_df.append(temp)\n",
        "\n"
      ],
      "metadata": {
        "id": "JywhuahnfkDC"
      },
      "execution_count": null,
      "outputs": []
    },
    {
      "cell_type": "code",
      "source": [
        "data_for_df[0]"
      ],
      "metadata": {
        "colab": {
          "base_uri": "https://localhost:8080/"
        },
        "id": "ecCoiipYe0bF",
        "outputId": "b7724e82-b772-4590-8f5b-b94bb4553189"
      },
      "execution_count": null,
      "outputs": [
        {
          "output_type": "execute_result",
          "data": {
            "text/plain": [
              "['python backend framework',\n",
              " 'https://www.monocubed.com/blog/top-python-frameworks/',\n",
              " 695,\n",
              " 1743,\n",
              " 0.3987378083763626,\n",
              " 1.5243832472748136]"
            ]
          },
          "metadata": {},
          "execution_count": 41
        }
      ]
    },
    {
      "cell_type": "code",
      "source": [
        "df = pd.DataFrame(data_for_df, columns=['query', 'page', 'clicks', 'impressions', 'ctr', 'position'])"
      ],
      "metadata": {
        "id": "K_w3M5etfXN9"
      },
      "execution_count": null,
      "outputs": []
    },
    {
      "cell_type": "code",
      "source": [
        "df"
      ],
      "metadata": {
        "colab": {
          "base_uri": "https://localhost:8080/",
          "height": 424
        },
        "id": "VWE4gD64hB0A",
        "outputId": "5934917c-8148-4783-8880-672d5959f6ac"
      },
      "execution_count": null,
      "outputs": [
        {
          "output_type": "execute_result",
          "data": {
            "text/plain": [
              "                          query  \\\n",
              "0      python backend framework   \n",
              "1           frontend frameworks   \n",
              "2          front end frameworks   \n",
              "3          python web framework   \n",
              "4            frontend framework   \n",
              "...                         ...   \n",
              "70821                  장고 vs 노드   \n",
              "70822                  장고 vs 노드   \n",
              "70823                   코드이그나이터   \n",
              "70824               코드이그나이터 라라벨   \n",
              "70825                   파이썬 app   \n",
              "\n",
              "                                                    page  clicks  impressions  \\\n",
              "0      https://www.monocubed.com/blog/top-python-fram...     695         1743   \n",
              "1      https://www.monocubed.com/blog/best-front-end-...     687         3789   \n",
              "2      https://www.monocubed.com/blog/best-front-end-...     682         3724   \n",
              "3      https://www.monocubed.com/blog/top-python-fram...     506         4810   \n",
              "4      https://www.monocubed.com/blog/best-front-end-...     395         1984   \n",
              "...                                                  ...     ...          ...   \n",
              "70821  https://www.monocubed.com/blog/django-vs-node-...       0            1   \n",
              "70822  https://www.monocubed.com/blog/django-vs-node-...       0            1   \n",
              "70823  https://www.monocubed.com/blog/best-ide-for-co...       0            1   \n",
              "70824  https://www.monocubed.com/blog/codeigniter-vs-...       0            1   \n",
              "70825  https://www.monocubed.com/blog/apps-built-with...       0            1   \n",
              "\n",
              "            ctr   position  \n",
              "0      0.398738   1.524383  \n",
              "1      0.181314   4.495909  \n",
              "2      0.183136   3.526047  \n",
              "3      0.105198   5.727235  \n",
              "4      0.199093   4.552923  \n",
              "...         ...        ...  \n",
              "70821  0.000000   2.000000  \n",
              "70822  0.000000   2.000000  \n",
              "70823  0.000000   1.000000  \n",
              "70824  0.000000  20.000000  \n",
              "70825  0.000000  96.000000  \n",
              "\n",
              "[70826 rows x 6 columns]"
            ],
            "text/html": [
              "\n",
              "  <div id=\"df-61e21d77-1503-45c1-9dcc-c6ca731cc6c0\">\n",
              "    <div class=\"colab-df-container\">\n",
              "      <div>\n",
              "<style scoped>\n",
              "    .dataframe tbody tr th:only-of-type {\n",
              "        vertical-align: middle;\n",
              "    }\n",
              "\n",
              "    .dataframe tbody tr th {\n",
              "        vertical-align: top;\n",
              "    }\n",
              "\n",
              "    .dataframe thead th {\n",
              "        text-align: right;\n",
              "    }\n",
              "</style>\n",
              "<table border=\"1\" class=\"dataframe\">\n",
              "  <thead>\n",
              "    <tr style=\"text-align: right;\">\n",
              "      <th></th>\n",
              "      <th>query</th>\n",
              "      <th>page</th>\n",
              "      <th>clicks</th>\n",
              "      <th>impressions</th>\n",
              "      <th>ctr</th>\n",
              "      <th>position</th>\n",
              "    </tr>\n",
              "  </thead>\n",
              "  <tbody>\n",
              "    <tr>\n",
              "      <th>0</th>\n",
              "      <td>python backend framework</td>\n",
              "      <td>https://www.monocubed.com/blog/top-python-fram...</td>\n",
              "      <td>695</td>\n",
              "      <td>1743</td>\n",
              "      <td>0.398738</td>\n",
              "      <td>1.524383</td>\n",
              "    </tr>\n",
              "    <tr>\n",
              "      <th>1</th>\n",
              "      <td>frontend frameworks</td>\n",
              "      <td>https://www.monocubed.com/blog/best-front-end-...</td>\n",
              "      <td>687</td>\n",
              "      <td>3789</td>\n",
              "      <td>0.181314</td>\n",
              "      <td>4.495909</td>\n",
              "    </tr>\n",
              "    <tr>\n",
              "      <th>2</th>\n",
              "      <td>front end frameworks</td>\n",
              "      <td>https://www.monocubed.com/blog/best-front-end-...</td>\n",
              "      <td>682</td>\n",
              "      <td>3724</td>\n",
              "      <td>0.183136</td>\n",
              "      <td>3.526047</td>\n",
              "    </tr>\n",
              "    <tr>\n",
              "      <th>3</th>\n",
              "      <td>python web framework</td>\n",
              "      <td>https://www.monocubed.com/blog/top-python-fram...</td>\n",
              "      <td>506</td>\n",
              "      <td>4810</td>\n",
              "      <td>0.105198</td>\n",
              "      <td>5.727235</td>\n",
              "    </tr>\n",
              "    <tr>\n",
              "      <th>4</th>\n",
              "      <td>frontend framework</td>\n",
              "      <td>https://www.monocubed.com/blog/best-front-end-...</td>\n",
              "      <td>395</td>\n",
              "      <td>1984</td>\n",
              "      <td>0.199093</td>\n",
              "      <td>4.552923</td>\n",
              "    </tr>\n",
              "    <tr>\n",
              "      <th>...</th>\n",
              "      <td>...</td>\n",
              "      <td>...</td>\n",
              "      <td>...</td>\n",
              "      <td>...</td>\n",
              "      <td>...</td>\n",
              "      <td>...</td>\n",
              "    </tr>\n",
              "    <tr>\n",
              "      <th>70821</th>\n",
              "      <td>장고 vs 노드</td>\n",
              "      <td>https://www.monocubed.com/blog/django-vs-node-...</td>\n",
              "      <td>0</td>\n",
              "      <td>1</td>\n",
              "      <td>0.000000</td>\n",
              "      <td>2.000000</td>\n",
              "    </tr>\n",
              "    <tr>\n",
              "      <th>70822</th>\n",
              "      <td>장고 vs 노드</td>\n",
              "      <td>https://www.monocubed.com/blog/django-vs-node-...</td>\n",
              "      <td>0</td>\n",
              "      <td>1</td>\n",
              "      <td>0.000000</td>\n",
              "      <td>2.000000</td>\n",
              "    </tr>\n",
              "    <tr>\n",
              "      <th>70823</th>\n",
              "      <td>코드이그나이터</td>\n",
              "      <td>https://www.monocubed.com/blog/best-ide-for-co...</td>\n",
              "      <td>0</td>\n",
              "      <td>1</td>\n",
              "      <td>0.000000</td>\n",
              "      <td>1.000000</td>\n",
              "    </tr>\n",
              "    <tr>\n",
              "      <th>70824</th>\n",
              "      <td>코드이그나이터 라라벨</td>\n",
              "      <td>https://www.monocubed.com/blog/codeigniter-vs-...</td>\n",
              "      <td>0</td>\n",
              "      <td>1</td>\n",
              "      <td>0.000000</td>\n",
              "      <td>20.000000</td>\n",
              "    </tr>\n",
              "    <tr>\n",
              "      <th>70825</th>\n",
              "      <td>파이썬 app</td>\n",
              "      <td>https://www.monocubed.com/blog/apps-built-with...</td>\n",
              "      <td>0</td>\n",
              "      <td>1</td>\n",
              "      <td>0.000000</td>\n",
              "      <td>96.000000</td>\n",
              "    </tr>\n",
              "  </tbody>\n",
              "</table>\n",
              "<p>70826 rows × 6 columns</p>\n",
              "</div>\n",
              "      <button class=\"colab-df-convert\" onclick=\"convertToInteractive('df-61e21d77-1503-45c1-9dcc-c6ca731cc6c0')\"\n",
              "              title=\"Convert this dataframe to an interactive table.\"\n",
              "              style=\"display:none;\">\n",
              "        \n",
              "  <svg xmlns=\"http://www.w3.org/2000/svg\" height=\"24px\"viewBox=\"0 0 24 24\"\n",
              "       width=\"24px\">\n",
              "    <path d=\"M0 0h24v24H0V0z\" fill=\"none\"/>\n",
              "    <path d=\"M18.56 5.44l.94 2.06.94-2.06 2.06-.94-2.06-.94-.94-2.06-.94 2.06-2.06.94zm-11 1L8.5 8.5l.94-2.06 2.06-.94-2.06-.94L8.5 2.5l-.94 2.06-2.06.94zm10 10l.94 2.06.94-2.06 2.06-.94-2.06-.94-.94-2.06-.94 2.06-2.06.94z\"/><path d=\"M17.41 7.96l-1.37-1.37c-.4-.4-.92-.59-1.43-.59-.52 0-1.04.2-1.43.59L10.3 9.45l-7.72 7.72c-.78.78-.78 2.05 0 2.83L4 21.41c.39.39.9.59 1.41.59.51 0 1.02-.2 1.41-.59l7.78-7.78 2.81-2.81c.8-.78.8-2.07 0-2.86zM5.41 20L4 18.59l7.72-7.72 1.47 1.35L5.41 20z\"/>\n",
              "  </svg>\n",
              "      </button>\n",
              "      \n",
              "  <style>\n",
              "    .colab-df-container {\n",
              "      display:flex;\n",
              "      flex-wrap:wrap;\n",
              "      gap: 12px;\n",
              "    }\n",
              "\n",
              "    .colab-df-convert {\n",
              "      background-color: #E8F0FE;\n",
              "      border: none;\n",
              "      border-radius: 50%;\n",
              "      cursor: pointer;\n",
              "      display: none;\n",
              "      fill: #1967D2;\n",
              "      height: 32px;\n",
              "      padding: 0 0 0 0;\n",
              "      width: 32px;\n",
              "    }\n",
              "\n",
              "    .colab-df-convert:hover {\n",
              "      background-color: #E2EBFA;\n",
              "      box-shadow: 0px 1px 2px rgba(60, 64, 67, 0.3), 0px 1px 3px 1px rgba(60, 64, 67, 0.15);\n",
              "      fill: #174EA6;\n",
              "    }\n",
              "\n",
              "    [theme=dark] .colab-df-convert {\n",
              "      background-color: #3B4455;\n",
              "      fill: #D2E3FC;\n",
              "    }\n",
              "\n",
              "    [theme=dark] .colab-df-convert:hover {\n",
              "      background-color: #434B5C;\n",
              "      box-shadow: 0px 1px 3px 1px rgba(0, 0, 0, 0.15);\n",
              "      filter: drop-shadow(0px 1px 2px rgba(0, 0, 0, 0.3));\n",
              "      fill: #FFFFFF;\n",
              "    }\n",
              "  </style>\n",
              "\n",
              "      <script>\n",
              "        const buttonEl =\n",
              "          document.querySelector('#df-61e21d77-1503-45c1-9dcc-c6ca731cc6c0 button.colab-df-convert');\n",
              "        buttonEl.style.display =\n",
              "          google.colab.kernel.accessAllowed ? 'block' : 'none';\n",
              "\n",
              "        async function convertToInteractive(key) {\n",
              "          const element = document.querySelector('#df-61e21d77-1503-45c1-9dcc-c6ca731cc6c0');\n",
              "          const dataTable =\n",
              "            await google.colab.kernel.invokeFunction('convertToInteractive',\n",
              "                                                     [key], {});\n",
              "          if (!dataTable) return;\n",
              "\n",
              "          const docLinkHtml = 'Like what you see? Visit the ' +\n",
              "            '<a target=\"_blank\" href=https://colab.research.google.com/notebooks/data_table.ipynb>data table notebook</a>'\n",
              "            + ' to learn more about interactive tables.';\n",
              "          element.innerHTML = '';\n",
              "          dataTable['output_type'] = 'display_data';\n",
              "          await google.colab.output.renderOutput(dataTable, element);\n",
              "          const docLink = document.createElement('div');\n",
              "          docLink.innerHTML = docLinkHtml;\n",
              "          element.appendChild(docLink);\n",
              "        }\n",
              "      </script>\n",
              "    </div>\n",
              "  </div>\n",
              "  "
            ]
          },
          "metadata": {},
          "execution_count": 45
        }
      ]
    },
    {
      "cell_type": "markdown",
      "source": [
        "#Export to CSV or Excel"
      ],
      "metadata": {
        "id": "zYdSFWe1hu_c"
      }
    },
    {
      "cell_type": "code",
      "source": [
        "df.to_excel('data.xlsx')"
      ],
      "metadata": {
        "id": "W7_U7YI2hCqs"
      },
      "execution_count": null,
      "outputs": []
    },
    {
      "cell_type": "code",
      "source": [
        "df.to_csv('data.csv')"
      ],
      "metadata": {
        "id": "t1GZCJa7hrlL"
      },
      "execution_count": null,
      "outputs": []
    },
    {
      "cell_type": "markdown",
      "source": [
        "#How to use Dimensions & Dimension Groups?"
      ],
      "metadata": {
        "id": "EIiMlsCDiHYg"
      }
    },
    {
      "cell_type": "code",
      "source": [
        "# create an empty list to store the rows from response\n",
        "all_responses = []\n",
        "\n",
        "# define a startRow\n",
        "startRow = 0\n",
        "\n",
        "while (startRow == 0) or (startRow%25000 == 0):\n",
        "  # build a request body\n",
        "  request_body = {\n",
        "      \"startDate\"\t: '2023-01-01',\n",
        "      \"endDate\" : '2023-01-02',\n",
        "      \"dimensions\" : ['QUERY', 'PAGE'],\n",
        "      \"dimensionFilterGroups\": [ { \"filters\": [\n",
        "                  {\"dimension\": \"QUERY\", \"expression\": \"python\", \"operator\": \"notContains\" },\n",
        "                  {\"dimension\": \"PAGE\", \"expression\": \"python\", \"operator\": \"contains\" },\n",
        "                  {\"dimension\": \"COUNTRY\", \"expression\": \"USA\", \"operator\": \"equals\" }\n",
        "                  ]}],\n",
        "      \"rowLimit\" : 25000,\n",
        "      \"dataState\" : \"final\",\n",
        "      'startRow' : startRow\n",
        "      }\n",
        "\n",
        "  #get gsc response\n",
        "  response_data = webmasters_service.searchanalytics().query(siteUrl=website, body=request_body).execute()\n",
        "\n",
        "  #update the rows\n",
        "  startRow = startRow + len(response_data['rows'])\n",
        "  print(\"fetched up to \" + str(startRow) + \" rows of data\")\n",
        "\n",
        "  # for loop tos save all the rows in all_responses\n",
        "  for row in response_data['rows']:\n",
        "    all_responses.append(row)"
      ],
      "metadata": {
        "colab": {
          "base_uri": "https://localhost:8080/"
        },
        "id": "onucdhINiN34",
        "outputId": "7ca87305-d938-4d57-e87a-21da65f8f088"
      },
      "execution_count": null,
      "outputs": [
        {
          "output_type": "stream",
          "name": "stdout",
          "text": [
            "fetched up to 84 rows of data\n"
          ]
        }
      ]
    },
    {
      "cell_type": "code",
      "source": [
        "all_responses[0]"
      ],
      "metadata": {
        "colab": {
          "base_uri": "https://localhost:8080/"
        },
        "id": "U6AdJzk_icsM",
        "outputId": "7199e962-f4e8-47a6-e6e0-0c734e8e7a18"
      },
      "execution_count": null,
      "outputs": [
        {
          "output_type": "execute_result",
          "data": {
            "text/plain": [
              "{'keys': ['apps developed',\n",
              "  'https://www.monocubed.com/blog/apps-built-with-python/'],\n",
              " 'clicks': 0,\n",
              " 'impressions': 2,\n",
              " 'ctr': 0,\n",
              " 'position': 30}"
            ]
          },
          "metadata": {},
          "execution_count": 60
        }
      ]
    },
    {
      "cell_type": "code",
      "source": [],
      "metadata": {
        "id": "WAz2lirGjbaL"
      },
      "execution_count": null,
      "outputs": []
    }
  ]
}