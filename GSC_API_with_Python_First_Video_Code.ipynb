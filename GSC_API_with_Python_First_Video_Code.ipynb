{
  "nbformat": 4,
  "nbformat_minor": 0,
  "metadata": {
    "colab": {
      "provenance": [],
      "include_colab_link": true
    },
    "kernelspec": {
      "name": "python3",
      "display_name": "Python 3"
    },
    "language_info": {
      "name": "python"
    }
  },
  "cells": [
    {
      "cell_type": "markdown",
      "metadata": {
        "id": "view-in-github",
        "colab_type": "text"
      },
      "source": [
        "<a href=\"https://colab.research.google.com/github/TheMihirNaik/google-search-console-api-using-python/blob/main/GSC_API_with_Python_First_Video_Code.ipynb\" target=\"_parent\"><img src=\"https://colab.research.google.com/assets/colab-badge.svg\" alt=\"Open In Colab\"/></a>"
      ]
    },
    {
      "cell_type": "code",
      "source": [
        "# Install required python packages\n",
        "!pip install oauth2client\n",
        "!pip install google-api-python-client\n",
        "!pip install httplib2"
      ],
      "metadata": {
        "id": "zuIAsGgmtrAW"
      },
      "execution_count": null,
      "outputs": []
    },
    {
      "cell_type": "code",
      "source": [
        "# Import required packages\n",
        "import httplib2\n",
        "from oauth2client.client import OAuth2WebServerFlow\n",
        "from googleapiclient.discovery import build"
      ],
      "metadata": {
        "id": "AqJkXIu8rxBK"
      },
      "execution_count": null,
      "outputs": []
    },
    {
      "cell_type": "code",
      "execution_count": null,
      "metadata": {
        "colab": {
          "base_uri": "https://localhost:8080/"
        },
        "id": "2qwxV7BEliwn",
        "outputId": "bb9974e9-3707-4c4d-9f83-d38a6c7732bf"
      },
      "outputs": [
        {
          "output_type": "stream",
          "name": "stderr",
          "text": [
            "WARNING:oauth2client._helpers:__init__() takes at most 4 positional arguments (5 given)\n"
          ]
        },
        {
          "output_type": "stream",
          "name": "stdout",
          "text": [
            "Go to the following link in your browser: https://accounts.google.com/o/oauth2/v2/auth?client_id=544906092305-se649hqg0c9jvhn80o9fdcui6horn77r.apps.googleusercontent.com&redirect_uri=urn%3Aietf%3Awg%3Aoauth%3A2.0%3Aoob&scope=https%3A%2F%2Fwww.googleapis.com%2Fauth%2Fwebmasters&access_type=offline&response_type=code\n"
          ]
        }
      ],
      "source": [
        "# Google Cloud Project Credentials\n",
        "CLIENT_ID = '544906092305-se649hqg0c9jvhn80o9fdcui6horn77r.apps.googleusercontent.com'\n",
        "CLIENT_SECRET = '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'\n",
        "\n",
        "# Define oauth scopes, the following is read/write access\n",
        "OAUTH_SCOPE = 'https://www.googleapis.com/auth/webmasters'\n",
        "\n",
        "# The following is a read only access\n",
        "#OAUTH_SCOPE = 'https://www.googleapis.com/auth/webmasters.readonly' \n",
        "\n",
        "# Redirect URI for Google Colab specifically\n",
        "REDIRECT_URI = 'urn:ietf:wg:oauth:2.0:oob'\n",
        "\n",
        "# Build URL that generates Authorization Code\n",
        "flow = OAuth2WebServerFlow(CLIENT_ID, CLIENT_SECRET, OAUTH_SCOPE, REDIRECT_URI)\n",
        "authorize_url = flow.step1_get_authorize_url()\n",
        "\n",
        "#print authorization URL\n",
        "print ('Go to the following link in your browser: ' + authorize_url)"
      ]
    },
    {
      "cell_type": "code",
      "source": [
        "# Recieve Authorization Code\n",
        "auth_code = input('Enter your Authorization Code here : ')\n",
        "\n",
        "\n",
        "# gets credentials to build service\n",
        "credentials = flow.step2_exchange(auth_code)\n",
        "print('The credentials are generated')"
      ],
      "metadata": {
        "colab": {
          "base_uri": "https://localhost:8080/"
        },
        "id": "UdSRK9_JqHH_",
        "outputId": "8142e79d-00f2-4de4-8204-e35365b8f2a2"
      },
      "execution_count": null,
      "outputs": [
        {
          "output_type": "stream",
          "name": "stdout",
          "text": [
            "Enter your Authorization Code here : 4/1AWtgzh7daLDsgH5ZU9luJf-kNbs2u_Hda5CTGkK_MDk7NH07T4bEI26DJso\n",
            "The credentials are generated\n"
          ]
        }
      ]
    },
    {
      "cell_type": "code",
      "source": [
        "# Create an httplib2.Http object and authorize it with our credentials\n",
        "http = httplib2.Http()\n",
        "\n",
        "#authorize credentials\n",
        "creds = credentials.authorize(http)\n",
        "\n",
        "#build a service to access various features of GSC API\n",
        "webmasters_service = build('searchconsole', 'v1', http=creds)"
      ],
      "metadata": {
        "id": "jyrTZkhHvz_y"
      },
      "execution_count": null,
      "outputs": []
    },
    {
      "cell_type": "markdown",
      "source": [
        "How to get a list of Sites in GSC account?"
      ],
      "metadata": {
        "id": "Elby5IeE_Vlw"
      }
    },
    {
      "cell_type": "code",
      "source": [
        "# Retrieve list of properties in account\n",
        "site_list = webmasters_service.sites().list().execute()\n",
        "\n",
        "# Filter for verified websites\n",
        "verified_sites_urls = [s['siteUrl'] for s in site_list['siteEntry']\n",
        "                    if s['permissionLevel'] != 'siteUnverifiedUser'\n",
        "                        and s['siteUrl'][:4] == 'http']\n",
        "\n",
        "print(verified_sites_urls)"
      ],
      "metadata": {
        "colab": {
          "base_uri": "https://localhost:8080/"
        },
        "id": "QIGWRX4ZrtIm",
        "outputId": "016a92d5-dbd9-4edd-de96-e8b41040cefa"
      },
      "execution_count": null,
      "outputs": [
        {
          "output_type": "stream",
          "name": "stdout",
          "text": [
            "['https://www.tridentpbi.in/', 'https://moneymonkdigital.com/']\n"
          ]
        }
      ]
    },
    {
      "cell_type": "markdown",
      "source": [
        "How to get sitemap data?"
      ],
      "metadata": {
        "id": "aoq_k_JH_boT"
      }
    },
    {
      "cell_type": "code",
      "source": [
        "# what website do you want to get the data for?\n",
        "url = 'https://www.tridentpbi.in/'\n",
        "\n",
        "#get sitemap data\n",
        "sitemap_data = webmasters_service.sitemaps().list(siteUrl=url).execute()\n",
        "\n",
        "print(sitemap_data)"
      ],
      "metadata": {
        "colab": {
          "base_uri": "https://localhost:8080/"
        },
        "id": "2DEC4J1O8Zin",
        "outputId": "bd5eddf0-612d-4a48-c6f5-23a3d0cc4988"
      },
      "execution_count": null,
      "outputs": [
        {
          "output_type": "stream",
          "name": "stdout",
          "text": [
            "{'sitemap': [{'path': 'https://www.tridentpbi.in/sitemap_index.xml', 'lastSubmitted': '2023-03-07T03:44:02.448Z', 'isPending': False, 'isSitemapsIndex': True, 'lastDownloaded': '2023-03-08T21:39:08.727Z', 'warnings': '5', 'errors': '0', 'contents': [{'type': 'web', 'submitted': '26', 'indexed': '0'}, {'type': 'image', 'submitted': '194', 'indexed': '0'}]}]}\n"
          ]
        }
      ]
    },
    {
      "cell_type": "code",
      "source": [
        "# locate the exact sitemap URL\n",
        "sitemap_loc = sitemap_data['sitemap'][0]['path']\n",
        "\n",
        "#print the sitemap url\n",
        "print(sitemap_loc)"
      ],
      "metadata": {
        "colab": {
          "base_uri": "https://localhost:8080/"
        },
        "id": "44RxCz3u8jlY",
        "outputId": "0cd49b02-9908-4fdd-f3ec-404e6271cc7c"
      },
      "execution_count": null,
      "outputs": [
        {
          "output_type": "stream",
          "name": "stdout",
          "text": [
            "https://www.tridentpbi.in/sitemap_index.xml\n"
          ]
        }
      ]
    },
    {
      "cell_type": "markdown",
      "source": [
        "*How* to do URL inspection?"
      ],
      "metadata": {
        "id": "d1fUprz1_iZJ"
      }
    },
    {
      "cell_type": "code",
      "source": [
        "url_to_inspect = 'https://www.tridentpbi.in/products/corrugated-box-cardboard-cartons/5-ply/'\n",
        "\n",
        "\n",
        "request = {\n",
        "  'inspectionUrl': url_to_inspect,\n",
        "  'siteUrl': url\n",
        "}\n",
        " \n",
        "response = webmasters_service.urlInspection().index().inspect(body=request).execute()\n",
        "inspectionResult = response['inspectionResult']\n",
        "\n",
        "#show the result on screen\n",
        "inspectionResult"
      ],
      "metadata": {
        "colab": {
          "base_uri": "https://localhost:8080/"
        },
        "id": "q9LN7Ev6_k8q",
        "outputId": "04c78ead-fab6-453d-a916-903f9ad1d386"
      },
      "execution_count": null,
      "outputs": [
        {
          "output_type": "execute_result",
          "data": {
            "text/plain": [
              "{'inspectionResultLink': 'https://search.google.com/search-console/inspect?resource_id=https://www.tridentpbi.in/&id=956EZpTxPfhiViJ93m2WWw&utm_medium=link&utm_source=api',\n",
              " 'indexStatusResult': {'verdict': 'PASS',\n",
              "  'coverageState': 'Submitted and indexed',\n",
              "  'robotsTxtState': 'ALLOWED',\n",
              "  'indexingState': 'INDEXING_ALLOWED',\n",
              "  'lastCrawlTime': '2023-03-01T23:46:03Z',\n",
              "  'pageFetchState': 'SUCCESSFUL',\n",
              "  'googleCanonical': 'https://www.tridentpbi.in/products/corrugated-box-cardboard-cartons/5-ply/',\n",
              "  'userCanonical': 'https://www.tridentpbi.in/products/corrugated-box-cardboard-cartons/5-ply/',\n",
              "  'referringUrls': ['https://www.tridentpbi.in/',\n",
              "   'https://www.tridentpbi.in/products/industries/fruits-vegetables/'],\n",
              "  'crawledAs': 'MOBILE'},\n",
              " 'mobileUsabilityResult': {'verdict': 'FAIL',\n",
              "  'issues': [{'issueType': 'TAP_TARGETS_TOO_CLOSE',\n",
              "    'message': 'Clickable elements too close together'},\n",
              "   {'issueType': 'SIZE_CONTENT_TO_VIEWPORT',\n",
              "    'message': 'Content wider than screen'}]}}"
            ]
          },
          "metadata": {},
          "execution_count": 111
        }
      ]
    },
    {
      "cell_type": "markdown",
      "source": [
        "How to get Search Analytics Data?"
      ],
      "metadata": {
        "id": "4dYO4jMt_eJl"
      }
    },
    {
      "cell_type": "code",
      "source": [
        "#get google search console data\n",
        "\n",
        "# what website do you want to get the data for?\n",
        "url = 'https://www.tridentpbi.in/'\n",
        "\n",
        "#build a request body\n",
        "request_body = {\n",
        "    \"startDate\" : '2022-01-01', \n",
        "    \"endDate\" : '2022-12-31', \n",
        "    \"aggregationType\" : \"AUTO\", \n",
        "    \"dataState\" : \"ALL\", \n",
        "    \"dimensions\" : [ \"DATE\", \"QUERY\", \"PAGE\", \"COUNTRY\", \"DEVICE\"], \n",
        "    \"type\": \"WEB\", \n",
        "    \"rowLimit\" : 25000}\n",
        "\n",
        "#get the response using request body\n",
        "response_data = webmasters_service.searchanalytics().query(siteUrl=url, body=request_body).execute()"
      ],
      "metadata": {
        "id": "x48KjrE_3lwC"
      },
      "execution_count": null,
      "outputs": []
    },
    {
      "cell_type": "code",
      "source": [
        "response_data['rows'][0]"
      ],
      "metadata": {
        "colab": {
          "base_uri": "https://localhost:8080/"
        },
        "id": "VYRxM7K9sRmN",
        "outputId": "46dcdacd-768b-4819-fdb4-3b60ca83a66e"
      },
      "execution_count": null,
      "outputs": [
        {
          "output_type": "execute_result",
          "data": {
            "text/plain": [
              "{'keys': ['2022-07-25',\n",
              "  'trident paper box industries',\n",
              "  'https://www.tridentpbi.in/',\n",
              "  'ind',\n",
              "  'DESKTOP'],\n",
              " 'clicks': 7,\n",
              " 'impressions': 9,\n",
              " 'ctr': 0.7777777777777778,\n",
              " 'position': 1}"
            ]
          },
          "metadata": {},
          "execution_count": 72
        }
      ]
    },
    {
      "cell_type": "markdown",
      "source": [
        "Unlimited Google Search Console Data"
      ],
      "metadata": {
        "id": "QeRrE8UYBHfF"
      }
    },
    {
      "cell_type": "code",
      "source": [
        "all_responses = []\n",
        "startRow = 0\n",
        "totalRow = 0\n",
        "\n",
        "if totalRow == 0:\n",
        "  request = {\"startDate\": '2022-01-01', \"endDate\": '2023-02-28', \"aggregationType\": \"BY_PAGE\", \"dataState\": \"ALL\", \"dimensions\": [ \"DATE\", \"QUERY\", \"PAGE\", \"COUNTRY\", \"DEVICE\"], \"type\": \"WEB\", \"rowLimit\" : 25000, \"startRow\" : startRow}\n",
        "  response = webmasters_service.searchanalytics().query(siteUrl=url, body=request).execute()\n",
        "  totalRow = totalRow + len(response['rows'])\n",
        "  startRow = startRow + 25000\n",
        "  print(request)\n",
        "  for each in response['rows']:\n",
        "    all_responses.append(each)\n",
        "  \n",
        "  while totalRow%25000 == 0:\n",
        "    request = {\"startDate\": '2022-01-01', \"endDate\": '2023-02-28', \"aggregationType\": \"BY_PAGE\", \"dataState\": \"ALL\", \"dimensions\": [ \"DATE\", \"QUERY\", \"PAGE\", \"COUNTRY\", \"DEVICE\"], \"type\": \"WEB\", \"rowLimit\" : 25000, \"startRow\" : startRow}\n",
        "    response = webmasters_service.searchanalytics().query(siteUrl=url, body=request).execute()\n",
        "    totalRow = totalRow + len(response['rows'])\n",
        "    startRow = startRow + 25000\n",
        "    print(request)\n",
        "    for each in response['rows']:\n",
        "      all_responses.append(each)"
      ],
      "metadata": {
        "colab": {
          "base_uri": "https://localhost:8080/"
        },
        "id": "ESoOYWf8uDoh",
        "outputId": "e5c7dcc3-1098-42e4-ebe6-9726a01c441b"
      },
      "execution_count": null,
      "outputs": [
        {
          "output_type": "stream",
          "name": "stdout",
          "text": [
            "{'startDate': '2022-01-01', 'endDate': '2023-02-28', 'aggregationType': 'BY_PAGE', 'dataState': 'ALL', 'dimensions': ['DATE', 'QUERY', 'PAGE', 'COUNTRY', 'DEVICE'], 'type': 'WEB', 'rowLimit': 25000, 'startRow': 0}\n",
            "{'startDate': '2022-01-01', 'endDate': '2023-02-28', 'aggregationType': 'BY_PAGE', 'dataState': 'ALL', 'dimensions': ['DATE', 'QUERY', 'PAGE', 'COUNTRY', 'DEVICE'], 'type': 'WEB', 'rowLimit': 25000, 'startRow': 25000}\n",
            "{'startDate': '2022-01-01', 'endDate': '2023-02-28', 'aggregationType': 'BY_PAGE', 'dataState': 'ALL', 'dimensions': ['DATE', 'QUERY', 'PAGE', 'COUNTRY', 'DEVICE'], 'type': 'WEB', 'rowLimit': 25000, 'startRow': 50000}\n",
            "{'startDate': '2022-01-01', 'endDate': '2023-02-28', 'aggregationType': 'BY_PAGE', 'dataState': 'ALL', 'dimensions': ['DATE', 'QUERY', 'PAGE', 'COUNTRY', 'DEVICE'], 'type': 'WEB', 'rowLimit': 25000, 'startRow': 75000}\n",
            "{'startDate': '2022-01-01', 'endDate': '2023-02-28', 'aggregationType': 'BY_PAGE', 'dataState': 'ALL', 'dimensions': ['DATE', 'QUERY', 'PAGE', 'COUNTRY', 'DEVICE'], 'type': 'WEB', 'rowLimit': 25000, 'startRow': 100000}\n",
            "{'startDate': '2022-01-01', 'endDate': '2023-02-28', 'aggregationType': 'BY_PAGE', 'dataState': 'ALL', 'dimensions': ['DATE', 'QUERY', 'PAGE', 'COUNTRY', 'DEVICE'], 'type': 'WEB', 'rowLimit': 25000, 'startRow': 125000}\n",
            "{'startDate': '2022-01-01', 'endDate': '2023-02-28', 'aggregationType': 'BY_PAGE', 'dataState': 'ALL', 'dimensions': ['DATE', 'QUERY', 'PAGE', 'COUNTRY', 'DEVICE'], 'type': 'WEB', 'rowLimit': 25000, 'startRow': 150000}\n",
            "{'startDate': '2022-01-01', 'endDate': '2023-02-28', 'aggregationType': 'BY_PAGE', 'dataState': 'ALL', 'dimensions': ['DATE', 'QUERY', 'PAGE', 'COUNTRY', 'DEVICE'], 'type': 'WEB', 'rowLimit': 25000, 'startRow': 175000}\n",
            "{'startDate': '2022-01-01', 'endDate': '2023-02-28', 'aggregationType': 'BY_PAGE', 'dataState': 'ALL', 'dimensions': ['DATE', 'QUERY', 'PAGE', 'COUNTRY', 'DEVICE'], 'type': 'WEB', 'rowLimit': 25000, 'startRow': 200000}\n",
            "{'startDate': '2022-01-01', 'endDate': '2023-02-28', 'aggregationType': 'BY_PAGE', 'dataState': 'ALL', 'dimensions': ['DATE', 'QUERY', 'PAGE', 'COUNTRY', 'DEVICE'], 'type': 'WEB', 'rowLimit': 25000, 'startRow': 225000}\n",
            "{'startDate': '2022-01-01', 'endDate': '2023-02-28', 'aggregationType': 'BY_PAGE', 'dataState': 'ALL', 'dimensions': ['DATE', 'QUERY', 'PAGE', 'COUNTRY', 'DEVICE'], 'type': 'WEB', 'rowLimit': 25000, 'startRow': 250000}\n",
            "{'startDate': '2022-01-01', 'endDate': '2023-02-28', 'aggregationType': 'BY_PAGE', 'dataState': 'ALL', 'dimensions': ['DATE', 'QUERY', 'PAGE', 'COUNTRY', 'DEVICE'], 'type': 'WEB', 'rowLimit': 25000, 'startRow': 275000}\n",
            "{'startDate': '2022-01-01', 'endDate': '2023-02-28', 'aggregationType': 'BY_PAGE', 'dataState': 'ALL', 'dimensions': ['DATE', 'QUERY', 'PAGE', 'COUNTRY', 'DEVICE'], 'type': 'WEB', 'rowLimit': 25000, 'startRow': 300000}\n",
            "{'startDate': '2022-01-01', 'endDate': '2023-02-28', 'aggregationType': 'BY_PAGE', 'dataState': 'ALL', 'dimensions': ['DATE', 'QUERY', 'PAGE', 'COUNTRY', 'DEVICE'], 'type': 'WEB', 'rowLimit': 25000, 'startRow': 325000}\n",
            "{'startDate': '2022-01-01', 'endDate': '2023-02-28', 'aggregationType': 'BY_PAGE', 'dataState': 'ALL', 'dimensions': ['DATE', 'QUERY', 'PAGE', 'COUNTRY', 'DEVICE'], 'type': 'WEB', 'rowLimit': 25000, 'startRow': 350000}\n"
          ]
        }
      ]
    },
    {
      "cell_type": "code",
      "source": [
        "len(all_responses)"
      ],
      "metadata": {
        "colab": {
          "base_uri": "https://localhost:8080/"
        },
        "id": "hPCOsvxEuGKL",
        "outputId": "7a63367c-7e4b-40f5-db5b-d181264b4f62"
      },
      "execution_count": null,
      "outputs": [
        {
          "output_type": "execute_result",
          "data": {
            "text/plain": [
              "364513"
            ]
          },
          "metadata": {},
          "execution_count": 114
        }
      ]
    },
    {
      "cell_type": "code",
      "source": [
        "data = []\n",
        "\n",
        "for each in all_responses:\n",
        "  temp = []\n",
        "  temp.append(each['clicks'])\n",
        "  temp.append(round(each['ctr']*100, 2))\n",
        "  temp.append(each['impressions'])\n",
        "  temp.append(each['keys'][0])\n",
        "  temp.append(each['keys'][1])\n",
        "  temp.append(each['keys'][2])\n",
        "  temp.append(each['keys'][3])\n",
        "  temp.append(each['keys'][4])\n",
        "  temp.append(each['position'])\n",
        "  temp.append(round(each['position'], 0))\n",
        "  data.append(temp)\n",
        "  "
      ],
      "metadata": {
        "id": "0MtPxE_4uIIV"
      },
      "execution_count": null,
      "outputs": []
    },
    {
      "cell_type": "code",
      "source": [
        "import pandas as pd\n",
        "df = pd.DataFrame(data, columns =['clicks', 'ctr', 'impressions', 'date','query', 'page', 'country', 'device', 'position', 'round_position'])"
      ],
      "metadata": {
        "id": "VSCikmzcBkeA"
      },
      "execution_count": null,
      "outputs": []
    },
    {
      "cell_type": "code",
      "source": [
        "df"
      ],
      "metadata": {
        "colab": {
          "base_uri": "https://localhost:8080/",
          "height": 423
        },
        "id": "5DeAHFgKuI-v",
        "outputId": "71cce00e-a3f3-4e7a-e288-fd36f481c23d"
      },
      "execution_count": null,
      "outputs": [
        {
          "output_type": "execute_result",
          "data": {
            "text/plain": [
              "        clicks     ctr  impressions        date  \\\n",
              "0            7   77.78            9  2022-07-25   \n",
              "1            6   85.71            7  2022-01-20   \n",
              "2            6  100.00            6  2022-02-25   \n",
              "3            6   85.71            7  2022-09-14   \n",
              "4            6   85.71            7  2023-02-22   \n",
              "...        ...     ...          ...         ...   \n",
              "364508       0    0.00            2  2023-02-28   \n",
              "364509       0    0.00            1  2023-02-28   \n",
              "364510       0    0.00            1  2023-02-28   \n",
              "364511       0    0.00            1  2023-02-28   \n",
              "364512       0    0.00            2  2023-02-28   \n",
              "\n",
              "                                   query  \\\n",
              "0           trident paper box industries   \n",
              "1           trident paper box industries   \n",
              "2           trident paper box industries   \n",
              "3           trident paper box industries   \n",
              "4           trident paper box industries   \n",
              "...                                  ...   \n",
              "364508            white corrugated boxes   \n",
              "364509  white corrugated boxes wholesale   \n",
              "364510  white corrugated boxes wholesale   \n",
              "364511  white corrugated boxes wholesale   \n",
              "364512                        wise boxes   \n",
              "\n",
              "                                                     page country   device  \\\n",
              "0                              https://www.tridentpbi.in/     ind  DESKTOP   \n",
              "1                              https://www.tridentpbi.in/     ind  DESKTOP   \n",
              "2                              https://www.tridentpbi.in/     ind  DESKTOP   \n",
              "3                              https://www.tridentpbi.in/     ind  DESKTOP   \n",
              "4                              https://www.tridentpbi.in/     ind  DESKTOP   \n",
              "...                                                   ...     ...      ...   \n",
              "364508  https://www.tridentpbi.in/products/corrugated-...     ind  DESKTOP   \n",
              "364509  https://www.tridentpbi.in/products/corrugated-...     can  DESKTOP   \n",
              "364510  https://www.tridentpbi.in/products/corrugated-...     mys  DESKTOP   \n",
              "364511  https://www.tridentpbi.in/products/corrugated-...     usa  DESKTOP   \n",
              "364512     https://www.tridentpbi.in/products/industries/     usa  DESKTOP   \n",
              "\n",
              "        position  round_position  \n",
              "0            1.0             1.0  \n",
              "1            1.0             1.0  \n",
              "2            1.0             1.0  \n",
              "3            1.0             1.0  \n",
              "4            1.0             1.0  \n",
              "...          ...             ...  \n",
              "364508      14.5            14.0  \n",
              "364509      26.0            26.0  \n",
              "364510      27.0            27.0  \n",
              "364511      79.0            79.0  \n",
              "364512      86.5            86.0  \n",
              "\n",
              "[364513 rows x 10 columns]"
            ],
            "text/html": [
              "\n",
              "  <div id=\"df-67d49bd6-b50a-4462-8df0-9047534d1d53\">\n",
              "    <div class=\"colab-df-container\">\n",
              "      <div>\n",
              "<style scoped>\n",
              "    .dataframe tbody tr th:only-of-type {\n",
              "        vertical-align: middle;\n",
              "    }\n",
              "\n",
              "    .dataframe tbody tr th {\n",
              "        vertical-align: top;\n",
              "    }\n",
              "\n",
              "    .dataframe thead th {\n",
              "        text-align: right;\n",
              "    }\n",
              "</style>\n",
              "<table border=\"1\" class=\"dataframe\">\n",
              "  <thead>\n",
              "    <tr style=\"text-align: right;\">\n",
              "      <th></th>\n",
              "      <th>clicks</th>\n",
              "      <th>ctr</th>\n",
              "      <th>impressions</th>\n",
              "      <th>date</th>\n",
              "      <th>query</th>\n",
              "      <th>page</th>\n",
              "      <th>country</th>\n",
              "      <th>device</th>\n",
              "      <th>position</th>\n",
              "      <th>round_position</th>\n",
              "    </tr>\n",
              "  </thead>\n",
              "  <tbody>\n",
              "    <tr>\n",
              "      <th>0</th>\n",
              "      <td>7</td>\n",
              "      <td>77.78</td>\n",
              "      <td>9</td>\n",
              "      <td>2022-07-25</td>\n",
              "      <td>trident paper box industries</td>\n",
              "      <td>https://www.tridentpbi.in/</td>\n",
              "      <td>ind</td>\n",
              "      <td>DESKTOP</td>\n",
              "      <td>1.0</td>\n",
              "      <td>1.0</td>\n",
              "    </tr>\n",
              "    <tr>\n",
              "      <th>1</th>\n",
              "      <td>6</td>\n",
              "      <td>85.71</td>\n",
              "      <td>7</td>\n",
              "      <td>2022-01-20</td>\n",
              "      <td>trident paper box industries</td>\n",
              "      <td>https://www.tridentpbi.in/</td>\n",
              "      <td>ind</td>\n",
              "      <td>DESKTOP</td>\n",
              "      <td>1.0</td>\n",
              "      <td>1.0</td>\n",
              "    </tr>\n",
              "    <tr>\n",
              "      <th>2</th>\n",
              "      <td>6</td>\n",
              "      <td>100.00</td>\n",
              "      <td>6</td>\n",
              "      <td>2022-02-25</td>\n",
              "      <td>trident paper box industries</td>\n",
              "      <td>https://www.tridentpbi.in/</td>\n",
              "      <td>ind</td>\n",
              "      <td>DESKTOP</td>\n",
              "      <td>1.0</td>\n",
              "      <td>1.0</td>\n",
              "    </tr>\n",
              "    <tr>\n",
              "      <th>3</th>\n",
              "      <td>6</td>\n",
              "      <td>85.71</td>\n",
              "      <td>7</td>\n",
              "      <td>2022-09-14</td>\n",
              "      <td>trident paper box industries</td>\n",
              "      <td>https://www.tridentpbi.in/</td>\n",
              "      <td>ind</td>\n",
              "      <td>DESKTOP</td>\n",
              "      <td>1.0</td>\n",
              "      <td>1.0</td>\n",
              "    </tr>\n",
              "    <tr>\n",
              "      <th>4</th>\n",
              "      <td>6</td>\n",
              "      <td>85.71</td>\n",
              "      <td>7</td>\n",
              "      <td>2023-02-22</td>\n",
              "      <td>trident paper box industries</td>\n",
              "      <td>https://www.tridentpbi.in/</td>\n",
              "      <td>ind</td>\n",
              "      <td>DESKTOP</td>\n",
              "      <td>1.0</td>\n",
              "      <td>1.0</td>\n",
              "    </tr>\n",
              "    <tr>\n",
              "      <th>...</th>\n",
              "      <td>...</td>\n",
              "      <td>...</td>\n",
              "      <td>...</td>\n",
              "      <td>...</td>\n",
              "      <td>...</td>\n",
              "      <td>...</td>\n",
              "      <td>...</td>\n",
              "      <td>...</td>\n",
              "      <td>...</td>\n",
              "      <td>...</td>\n",
              "    </tr>\n",
              "    <tr>\n",
              "      <th>364508</th>\n",
              "      <td>0</td>\n",
              "      <td>0.00</td>\n",
              "      <td>2</td>\n",
              "      <td>2023-02-28</td>\n",
              "      <td>white corrugated boxes</td>\n",
              "      <td>https://www.tridentpbi.in/products/corrugated-...</td>\n",
              "      <td>ind</td>\n",
              "      <td>DESKTOP</td>\n",
              "      <td>14.5</td>\n",
              "      <td>14.0</td>\n",
              "    </tr>\n",
              "    <tr>\n",
              "      <th>364509</th>\n",
              "      <td>0</td>\n",
              "      <td>0.00</td>\n",
              "      <td>1</td>\n",
              "      <td>2023-02-28</td>\n",
              "      <td>white corrugated boxes wholesale</td>\n",
              "      <td>https://www.tridentpbi.in/products/corrugated-...</td>\n",
              "      <td>can</td>\n",
              "      <td>DESKTOP</td>\n",
              "      <td>26.0</td>\n",
              "      <td>26.0</td>\n",
              "    </tr>\n",
              "    <tr>\n",
              "      <th>364510</th>\n",
              "      <td>0</td>\n",
              "      <td>0.00</td>\n",
              "      <td>1</td>\n",
              "      <td>2023-02-28</td>\n",
              "      <td>white corrugated boxes wholesale</td>\n",
              "      <td>https://www.tridentpbi.in/products/corrugated-...</td>\n",
              "      <td>mys</td>\n",
              "      <td>DESKTOP</td>\n",
              "      <td>27.0</td>\n",
              "      <td>27.0</td>\n",
              "    </tr>\n",
              "    <tr>\n",
              "      <th>364511</th>\n",
              "      <td>0</td>\n",
              "      <td>0.00</td>\n",
              "      <td>1</td>\n",
              "      <td>2023-02-28</td>\n",
              "      <td>white corrugated boxes wholesale</td>\n",
              "      <td>https://www.tridentpbi.in/products/corrugated-...</td>\n",
              "      <td>usa</td>\n",
              "      <td>DESKTOP</td>\n",
              "      <td>79.0</td>\n",
              "      <td>79.0</td>\n",
              "    </tr>\n",
              "    <tr>\n",
              "      <th>364512</th>\n",
              "      <td>0</td>\n",
              "      <td>0.00</td>\n",
              "      <td>2</td>\n",
              "      <td>2023-02-28</td>\n",
              "      <td>wise boxes</td>\n",
              "      <td>https://www.tridentpbi.in/products/industries/</td>\n",
              "      <td>usa</td>\n",
              "      <td>DESKTOP</td>\n",
              "      <td>86.5</td>\n",
              "      <td>86.0</td>\n",
              "    </tr>\n",
              "  </tbody>\n",
              "</table>\n",
              "<p>364513 rows × 10 columns</p>\n",
              "</div>\n",
              "      <button class=\"colab-df-convert\" onclick=\"convertToInteractive('df-67d49bd6-b50a-4462-8df0-9047534d1d53')\"\n",
              "              title=\"Convert this dataframe to an interactive table.\"\n",
              "              style=\"display:none;\">\n",
              "        \n",
              "  <svg xmlns=\"http://www.w3.org/2000/svg\" height=\"24px\"viewBox=\"0 0 24 24\"\n",
              "       width=\"24px\">\n",
              "    <path d=\"M0 0h24v24H0V0z\" fill=\"none\"/>\n",
              "    <path d=\"M18.56 5.44l.94 2.06.94-2.06 2.06-.94-2.06-.94-.94-2.06-.94 2.06-2.06.94zm-11 1L8.5 8.5l.94-2.06 2.06-.94-2.06-.94L8.5 2.5l-.94 2.06-2.06.94zm10 10l.94 2.06.94-2.06 2.06-.94-2.06-.94-.94-2.06-.94 2.06-2.06.94z\"/><path d=\"M17.41 7.96l-1.37-1.37c-.4-.4-.92-.59-1.43-.59-.52 0-1.04.2-1.43.59L10.3 9.45l-7.72 7.72c-.78.78-.78 2.05 0 2.83L4 21.41c.39.39.9.59 1.41.59.51 0 1.02-.2 1.41-.59l7.78-7.78 2.81-2.81c.8-.78.8-2.07 0-2.86zM5.41 20L4 18.59l7.72-7.72 1.47 1.35L5.41 20z\"/>\n",
              "  </svg>\n",
              "      </button>\n",
              "      \n",
              "  <style>\n",
              "    .colab-df-container {\n",
              "      display:flex;\n",
              "      flex-wrap:wrap;\n",
              "      gap: 12px;\n",
              "    }\n",
              "\n",
              "    .colab-df-convert {\n",
              "      background-color: #E8F0FE;\n",
              "      border: none;\n",
              "      border-radius: 50%;\n",
              "      cursor: pointer;\n",
              "      display: none;\n",
              "      fill: #1967D2;\n",
              "      height: 32px;\n",
              "      padding: 0 0 0 0;\n",
              "      width: 32px;\n",
              "    }\n",
              "\n",
              "    .colab-df-convert:hover {\n",
              "      background-color: #E2EBFA;\n",
              "      box-shadow: 0px 1px 2px rgba(60, 64, 67, 0.3), 0px 1px 3px 1px rgba(60, 64, 67, 0.15);\n",
              "      fill: #174EA6;\n",
              "    }\n",
              "\n",
              "    [theme=dark] .colab-df-convert {\n",
              "      background-color: #3B4455;\n",
              "      fill: #D2E3FC;\n",
              "    }\n",
              "\n",
              "    [theme=dark] .colab-df-convert:hover {\n",
              "      background-color: #434B5C;\n",
              "      box-shadow: 0px 1px 3px 1px rgba(0, 0, 0, 0.15);\n",
              "      filter: drop-shadow(0px 1px 2px rgba(0, 0, 0, 0.3));\n",
              "      fill: #FFFFFF;\n",
              "    }\n",
              "  </style>\n",
              "\n",
              "      <script>\n",
              "        const buttonEl =\n",
              "          document.querySelector('#df-67d49bd6-b50a-4462-8df0-9047534d1d53 button.colab-df-convert');\n",
              "        buttonEl.style.display =\n",
              "          google.colab.kernel.accessAllowed ? 'block' : 'none';\n",
              "\n",
              "        async function convertToInteractive(key) {\n",
              "          const element = document.querySelector('#df-67d49bd6-b50a-4462-8df0-9047534d1d53');\n",
              "          const dataTable =\n",
              "            await google.colab.kernel.invokeFunction('convertToInteractive',\n",
              "                                                     [key], {});\n",
              "          if (!dataTable) return;\n",
              "\n",
              "          const docLinkHtml = 'Like what you see? Visit the ' +\n",
              "            '<a target=\"_blank\" href=https://colab.research.google.com/notebooks/data_table.ipynb>data table notebook</a>'\n",
              "            + ' to learn more about interactive tables.';\n",
              "          element.innerHTML = '';\n",
              "          dataTable['output_type'] = 'display_data';\n",
              "          await google.colab.output.renderOutput(dataTable, element);\n",
              "          const docLink = document.createElement('div');\n",
              "          docLink.innerHTML = docLinkHtml;\n",
              "          element.appendChild(docLink);\n",
              "        }\n",
              "      </script>\n",
              "    </div>\n",
              "  </div>\n",
              "  "
            ]
          },
          "metadata": {},
          "execution_count": 117
        }
      ]
    },
    {
      "cell_type": "code",
      "source": [],
      "metadata": {
        "id": "fm89t8JTuJcd"
      },
      "execution_count": null,
      "outputs": []
    }
  ]
}